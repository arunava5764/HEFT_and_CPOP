{
  "nbformat": 4,
  "nbformat_minor": 0,
  "metadata": {
    "colab": {
      "name": "2021csm1002_2021csm1020_spds_project.ipynb",
      "provenance": [],
      "collapsed_sections": []
    },
    "kernelspec": {
      "name": "python3",
      "display_name": "Python 3"
    },
    "language_info": {
      "name": "python"
    }
  },
  "cells": [
    {
      "cell_type": "markdown",
      "source": [
        "# Implementation of Research Paper named Performance-Effective and Low-Complexity Task Scheduling for heterogenous Computing. \n",
        "\n",
        "* Team Member 1 : Anurag Jaiswal (2021CSM1002)\n",
        "* Team Member 2 : Arunava Chaudhuri (2021CSM1020)"
      ],
      "metadata": {
        "id": "SW_0qbOevijv"
      }
    },
    {
      "cell_type": "markdown",
      "source": [
        "Mounting Drive"
      ],
      "metadata": {
        "id": "rg_lEac9wSQQ"
      }
    },
    {
      "cell_type": "code",
      "source": [
        "from google.colab import drive\n",
        "drive.mount('/content/drive')"
      ],
      "metadata": {
        "colab": {
          "base_uri": "https://localhost:8080/"
        },
        "id": "lqR1wL28njkq",
        "outputId": "28c2baa6-5949-4681-b159-4e6bf7ddacec"
      },
      "execution_count": null,
      "outputs": [
        {
          "output_type": "stream",
          "name": "stdout",
          "text": [
            "Drive already mounted at /content/drive; to attempt to forcibly remount, call drive.mount(\"/content/drive\", force_remount=True).\n"
          ]
        }
      ]
    },
    {
      "cell_type": "code",
      "execution_count": null,
      "metadata": {
        "id": "ik-wqM1mmNcW"
      },
      "outputs": [],
      "source": [
        "from operator import itemgetter\n",
        "from queue import PriorityQueue\n",
        "\n",
        "class DualPriorityQueue(PriorityQueue):\n",
        "    def __init__(self, maxPQ=False):\n",
        "        PriorityQueue.__init__(self)\n",
        "        self.reverse = -1 if maxPQ else 1\n",
        "\n",
        "    def put(self, priority, data):\n",
        "        PriorityQueue.put(self, (self.reverse * priority, data))\n",
        "\n",
        "    def get(self, *args, **kwargs):\n",
        "        priority, data = PriorityQueue.get(self, *args, **kwargs)\n",
        "        return self.reverse * priority, data\n",
        "\n",
        "class Processor:\n",
        "    def __init__(self,computation_cost=0,est=0,eft=0):\n",
        "        self.computation_cost = computation_cost\n",
        "        self.eft = eft\n",
        "        self.est = est\n",
        "\n",
        "\n",
        "class Task:\n",
        "    def __init__(self,id,avg_compt=0.0,rank=0.0,processor_exec=0,st=0,ft=0,cpu_s=[],parents=[]):\n",
        "        self.avg_compt = avg_compt # avg. computation cost across all cpu_s\n",
        "        self.rank = rank\n",
        "        self.processor_exec = processor_exec # the processor on which the job was finally scheduled\n",
        "        self.st = st # start time in final schedule\n",
        "        self.ft = ft # finish time in final schedule\n",
        "        self.cpu_s = cpu_s\n",
        "        self.parents = parents\n",
        "        self.id = id\n",
        "        self.is_exit=False\n",
        "        self.is_ready=False\n",
        "    def __lt__(self, other):\n",
        "        return self.rank > other.rank\n",
        "\n",
        "tasks = []\n",
        "heft_tasks = []\n",
        "cpop_tasks = []\n",
        "num_tasks = 0\n",
        "num_cpu_s = 0\n",
        "MAX_TIME = 10000\n",
        "\n",
        "dag_edge_cost = list(list())\n",
        "\n",
        "\n",
        "\n",
        "\n"
      ]
    },
    {
      "cell_type": "code",
      "source": [
        "def print_tasks():\n",
        "    for i in range(len(tasks)):\n",
        "        print('avg_compt = ',tasks[i].avg_compt, \" rank = \", tasks[i].rank, \" processor_exec = \", tasks[i].processor_exec, \" st = \", tasks[i].st , \" ft = \", tasks[i].ft, \" parents = \", tasks[i].parents )\n",
        "    \n",
        "def print_dag_edge_cost():\n",
        "    for i in range(len(dag_edge_cost)):\n",
        "            print(dag_edge_cost[i])"
      ],
      "metadata": {
        "id": "HxnKMfMXnK8K"
      },
      "execution_count": null,
      "outputs": []
    },
    {
      "cell_type": "code",
      "source": [
        "def initialize_data(): \n",
        "    file = open('/content/drive/MyDrive/input1.txt', 'r')\n",
        "    lines = file.readlines()\n",
        "    lines = [ line.strip('\\n') for line in lines]\n",
        "    global num_tasks\n",
        "    global num_cpu_s\n",
        "    num_tasks = int(lines[0])\n",
        "    num_cpu_s = int(lines[1])\n",
        "    for i in range(num_tasks):\n",
        "        tasks.append(Task(i,0,0,0,0,0,[],[]))\n",
        "        if i==num_tasks-1:\n",
        "            tasks[i].is_exit=True\n",
        "        for j in range(num_cpu_s):\n",
        "            tasks[i].cpu_s.append(Processor(0,0,0))\n",
        "    for i in range(num_cpu_s):\n",
        "        inp = list(lines[i+2].split(\" \"))\n",
        "        for j in range(num_tasks):\n",
        "            tasks[j].cpu_s[i].computation_cost = int(inp[j])\n",
        "    global dag_edge_cost\n",
        "    for i in range(num_tasks):\n",
        "        v = [0]*num_tasks\n",
        "        dag_edge_cost.append(v)\n",
        "        inp = list(lines[num_cpu_s+2+i].split(\" \"))\n",
        "        for j in range(num_tasks):\n",
        "            dag_edge_cost[i][j] = int(inp[j])\n",
        "            if dag_edge_cost[i][j] > 0:\n",
        "                tasks[j].parents.append(i)\n",
        "\n"
      ],
      "metadata": {
        "id": "fR4RqeKwnGy5"
      },
      "execution_count": null,
      "outputs": []
    },
    {
      "cell_type": "code",
      "source": [
        "\n",
        "# compute average or mean computation costs of all tasks\n",
        "def avg_computation_calculate():\n",
        "    for i in range(num_tasks):\n",
        "        tasks[i].avg_compt = 0\n",
        "        for j in range(num_cpu_s):\n",
        "            tasks[i].avg_compt = tasks[i].avg_compt + tasks[i].cpu_s[j].computation_cost\n",
        "        tasks[i].avg_compt = tasks[i].avg_compt / num_cpu_s\n"
      ],
      "metadata": {
        "id": "dOQdHsW_nEcI"
      },
      "execution_count": null,
      "outputs": []
    },
    {
      "cell_type": "code",
      "source": [
        "#  for every node, recursively find the upper rank\n",
        "def upward_rank_calculate(node):\n",
        "    sub_rank = 0; #  rank of the dependent task\n",
        "    temp_max = 0; #  temp_max = maximum of(cost of communication between tasks + rank(i))\n",
        "\n",
        "    for i in range(num_tasks): #  for every node\n",
        "        if (dag_edge_cost[node][i] > 0): #  that has an incoming edge from main node\n",
        "            sub_rank = upward_rank_calculate(i) #  calculate its upper rank\n",
        "            if (sub_rank + dag_edge_cost[node][i] > temp_max): #  if the upper rank is max among others\n",
        "                temp_max = sub_rank + dag_edge_cost[node][i]; #  set this as the max\n",
        "            \n",
        "    \n",
        "    return temp_max + tasks[node].avg_compt; #  rank of the main node"
      ],
      "metadata": {
        "id": "iNwAVx03nCKZ"
      },
      "execution_count": null,
      "outputs": []
    },
    {
      "cell_type": "code",
      "source": [
        "def downward_rank_calculate(node):\n",
        "    sub_rank = 0; #  rank of the dependent task\n",
        "    temp_max = 0; #  temp_max = maximum of(cost of communication between tasks + rank(i))\n",
        "\n",
        "    for i in range(num_tasks): #  for every node\n",
        "        if (dag_edge_cost[i][node] > 0): #  that has an incoming edge from main node\n",
        "            sub_rank = downward_rank_calculate(i) #  calculate its upper rank\n",
        "            if (sub_rank + dag_edge_cost[i][node] + tasks[i].avg_compt> temp_max): #  if the upper rank is max among others\n",
        "                temp_max = sub_rank + dag_edge_cost[i][node]+ tasks[i].avg_compt; #  set this as the max\n",
        "            \n",
        "    \n",
        "    return temp_max  #  rank of the main node"
      ],
      "metadata": {
        "id": "7ZV2HaZPm9gt"
      },
      "execution_count": null,
      "outputs": []
    },
    {
      "cell_type": "code",
      "source": [
        "\n",
        "def get_my_key(obj):\n",
        "    return obj['size']\n",
        " \n",
        "def compare(x, y):\n",
        "    return tasks[x].rank > tasks[y].rank\n",
        "\n",
        "\n",
        "#  sort the tasks w.r.t upper ranks and return in a vector\n",
        "def sortRank(tasks):\n",
        "    temp=[]\n",
        "    for i in range(num_tasks):\n",
        "        p=[round(tasks[i].rank),tasks[i].id]\n",
        "        temp.append(p)\n",
        "    sort_job=sorted(temp,key=itemgetter(0),reverse=True)\n",
        "    in_sort=[p[1] for p in sort_job]\n",
        "\n",
        "    return in_sort"
      ],
      "metadata": {
        "id": "mn6ZtpPFm8NB"
      },
      "execution_count": null,
      "outputs": []
    },
    {
      "cell_type": "code",
      "source": [
        "# Funnction for creating critical path\n",
        "def create_critical_path(tasks):\n",
        "    critical_path=[]\n",
        "    temp=tasks[0]\n",
        "    entry_priority=round(tasks[0].rank)\n",
        "    i=0\n",
        "    p=0\n",
        "    critical_path.append(temp)\n",
        "    #print(\"first job id: \",critical_path[p].id+1)\n",
        "    p=p+1\n",
        "    #print(\"In critical path: \",critical_path[p].id)\n",
        "    while(temp.is_exit!=1):\n",
        "        #print(\"In critical path\")\n",
        "        for j in range(num_tasks):\n",
        "            if(dag_edge_cost[i][j]>0 and round(tasks[j].rank)==entry_priority):\n",
        "                i=j\n",
        "                temp=tasks[j]\n",
        "                critical_path.append(tasks[j])\n",
        "                #print(\"In critical path: \",critical_path[p].id+1)\n",
        "                p=p+1\n",
        "                break\n",
        "    return critical_path"
      ],
      "metadata": {
        "id": "hhtKP0Tlm59q"
      },
      "execution_count": null,
      "outputs": []
    },
    {
      "cell_type": "code",
      "source": [
        "#Function for finding critical processor\n",
        "def crictical_processor(critical_path):\n",
        "    mincost=[]\n",
        "    for i in range(num_cpu_s):\n",
        "        cric_cost=0\n",
        "        for j in range(len(critical_path)):\n",
        "            cric_cost+=critical_path[j].cpu_s[i].computation_cost\n",
        "        mincost.append(cric_cost)\n",
        "# =============================================================================\n",
        "#     print(\"mincost = \",end=\" \")\n",
        "#     for i in range(len(mincost)):\n",
        "#         print(mincost[i] ,end= \" \")\n",
        "#     print('\\n')\n",
        "# =============================================================================\n",
        "    return mincost.index(min(mincost))"
      ],
      "metadata": {
        "id": "7mn-c68gm2tE"
      },
      "execution_count": null,
      "outputs": []
    },
    {
      "cell_type": "code",
      "source": [
        "#  searches for gaps in between tasks on a processor and returns where the insertion should be\n",
        "def jobInsertion(search_end,processor_state,job_index,processor_index,search_start):\n",
        "    t = tasks[job_index].cpu_s[processor_index].computation_cost;\n",
        "    counter = 0\n",
        "    for i in range(search_start,search_end):\n",
        "        if (processor_state[processor_index][i] == False):\n",
        "            counter+=1\n",
        "        else:\n",
        "            counter = 0\n",
        "        if (counter == t): #  as soon as a compatible gap is found, return its location\n",
        "            return i\n",
        "    return max(search_end, search_start); #  if no gaps were found, resume the scheduling as normal\n",
        "\n"
      ],
      "metadata": {
        "id": "haEKKQzem0FK"
      },
      "execution_count": null,
      "outputs": []
    },
    {
      "cell_type": "code",
      "source": [
        "#  calculate earliest start and finish times of all tasks\n",
        "def schedule(rank_index_sorted):\n",
        "\n",
        "    '''  free_processor denotes the time at which the processor will be free after its latest job '''\n",
        "    free_processor = [0]*num_cpu_s \n",
        "    ''' same as job[index_i].processor_exec ''' \n",
        "    current_processor = -1 \n",
        "    '''  delay added to free_processor, accounting for finish times of all parent nodes and communication costs '''\n",
        "    delay_job_parent = [0]*num_tasks\n",
        "    processor_state = [[False]* MAX_TIME ]*num_cpu_s\n",
        "    for i in range(num_tasks):\n",
        "        index_i = rank_index_sorted[i]; \n",
        "        \n",
        "        ready_processor = [[] for i in range(num_cpu_s)]\n",
        "        ''' iterating for each processor for each job '''\n",
        "        for j in range(num_cpu_s):\n",
        "            ''' iterating for each parent node of the job estimate ready times '''\n",
        "            for k in range(len(tasks[index_i].parents)): \n",
        "                ''' on same processor, ignore communication cost ''' \n",
        "                if (tasks[tasks[index_i].parents[k]].processor_exec == j):  \n",
        "                    \n",
        "                    ready_processor[j].append(tasks[tasks[index_i].parents[k]].ft)\n",
        "\n",
        "                     \n",
        "                else: \n",
        "                    ready_processor[j].append(dag_edge_cost[tasks[index_i].parents[k]][index_i] + tasks[tasks[index_i].parents[k]].ft) # on processor different from the processor parent was executed on, add communication cost delay\n",
        "            if (len(ready_processor[j]) <= 0): # final delay on the processor for each job, this considers everythin\n",
        "                delay_job_parent[j] = 0\n",
        "            else:\n",
        "                delay_job_parent[j] = max(ready_processor[j])\n",
        "                \n",
        "            tasks[index_i].cpu_s[j].est = jobInsertion(free_processor[j], processor_state, index_i, j, delay_job_parent[j])\n",
        "            tasks[index_i].cpu_s[j].eft = tasks[index_i].cpu_s[j].est + tasks[index_i].cpu_s[j].computation_cost\n",
        "        current_processor = min(range(len(tasks[index_i].cpu_s)), key=lambda i: tasks[index_i].cpu_s[i].eft)\n",
        "        tasks[index_i].ft = tasks[index_i].cpu_s[current_processor].eft\n",
        "        tasks[index_i].st = tasks[index_i].cpu_s[current_processor].est\n",
        "        free_processor[current_processor] = tasks[index_i].ft\n",
        "        tasks[index_i].processor_exec = current_processor\n",
        "        \n",
        "        ''' updating the state of processor to reflect that processor was in use for the entire duration of job execution '''\n",
        "        for j in range(tasks[index_i].st,tasks[index_i].ft): \n",
        "            processor_state[current_processor][j] = True\n",
        "\n",
        "def showpq(gq):\n",
        "    g = gq;\n",
        "    i=0\n",
        "    while (len(g)!=i):\n",
        "        k=g[i].id+1; \n",
        "        print(k,end=\" \")\n",
        "        i=i+1\n",
        "    print('\\n')"
      ],
      "metadata": {
        "id": "qP-lWZVrmsku"
      },
      "execution_count": null,
      "outputs": []
    },
    {
      "cell_type": "code",
      "source": [
        "\n",
        "# Function for scheduling using CPOP algorithm\n",
        "def schedule_cpop(critical_path, critical_processor):\n",
        "    order=[]\n",
        "    free_processor = [0]*num_cpu_s \n",
        "    current_processor = -1\n",
        "    delay_job_parent = [0]*num_tasks \n",
        "    processor_state = [[False]* MAX_TIME ]*num_cpu_s\n",
        "    schedule_queue=[]\n",
        "    schedule_queue.append(critical_path[0])\n",
        "    roundk=1\n",
        "    while(len(schedule_queue)>0):\n",
        "        #print(len(schedule_queue))\n",
        "        #showpq(schedule_queue)\n",
        "        #print(\"round: \\n\",roundk)\n",
        "        index_i = schedule_queue[0].id; # for making the code simpler\n",
        "        tasks[index_i].is_ready=True\n",
        "        order.append(index_i+1)\n",
        "        #print(\"in cpop schedule: \",index_i+1,\"***********************************\")\n",
        "        ready_processor=[[] for i in range(num_cpu_s)]\n",
        "        check=False\n",
        "        for j in range(len(critical_path)):\n",
        "            if(index_i==critical_path[j].id):\n",
        "                check=True\n",
        "                break\n",
        "        if(check==1):\n",
        "            #print(\"critical processor: \",critical_processor,\" critical task: \",index_i+1)\n",
        "            ''' iterating for each parent node of the job calculate ready times '''\n",
        "            for k in range(len(tasks[index_i].parents)):\n",
        "                ''' #  on same processor, ignore communication cost '''\n",
        "                if (tasks[tasks[index_i].parents[k]].processor_exec == critical_processor):  \n",
        "                    ready_processor[critical_processor].append(tasks[tasks[index_i].parents[k]].ft)\n",
        "                else: \n",
        "                    ready_processor[critical_processor].append(dag_edge_cost[tasks[index_i].parents[k]][index_i] + tasks[tasks[index_i].parents[k]].ft) # if processor different from the processor parent was executed on, add communication cost delay\n",
        "            if (len(ready_processor[critical_processor]) <= 0): \n",
        "                delay_job_parent[critical_processor] = 0\n",
        "            else: # final delay on the processor for each job, this considers everything\n",
        "                delay_job_parent[critical_processor] = max(ready_processor[critical_processor])\n",
        "            tasks[index_i].cpu_s[critical_processor].est = jobInsertion(free_processor[critical_processor], processor_state, index_i, critical_processor, delay_job_parent[critical_processor])\n",
        "            tasks[index_i].cpu_s[critical_processor].eft = tasks[index_i].cpu_s[critical_processor].est + tasks[index_i].cpu_s[critical_processor].computation_cost\n",
        "            current_processor = critical_processor\n",
        "\n",
        "            tasks[index_i].st = tasks[index_i].cpu_s[current_processor].est\n",
        "            tasks[index_i].ft = tasks[index_i].cpu_s[current_processor].eft\n",
        "            tasks[index_i].processor_exec = current_processor\n",
        "            free_processor[current_processor] = tasks[index_i].ft\n",
        "           \n",
        "            \n",
        "            ''' updating the state of processor to reflect that processor was in use for the entire duration of job execution '''\n",
        "            for j in range(tasks[index_i].st,tasks[index_i].ft): \n",
        "                processor_state[current_processor][j] = True\n",
        "        else:\n",
        "            #print(\"in non critical path schedule: \",index_i)\n",
        "            '''  iterate over for each processor with respect to each job '''\n",
        "            for j in range(num_cpu_s): \n",
        "                ''' #  for each parent node of the job evaluate ready times '''\n",
        "                for k in range(len(tasks[index_i].parents)): \n",
        "                    ''' on same processor, ignore communication cost '''\n",
        "                    if (tasks[tasks[index_i].parents[k]].processor_exec == j):  \n",
        "                        ready_processor[j].append(tasks[tasks[index_i].parents[k]].ft)\n",
        "                    else:  # on different processor from the processor parent was executed on, add communication cost delay\n",
        "                       ready_processor[j].append(dag_edge_cost[tasks[index_i].parents[k]][index_i] + tasks[tasks[index_i].parents[k]].ft)\n",
        "                if (len(ready_processor[j]) <= 0): \n",
        "                    delay_job_parent[j] = 0\n",
        "                else: # final delay on the processor for each job, this considers everything\n",
        "                    delay_job_parent[j] = max(ready_processor[j])\n",
        "                    \n",
        "                tasks[index_i].cpu_s[j].est = jobInsertion(free_processor[j], processor_state, index_i, j, delay_job_parent[j])\n",
        "                tasks[index_i].cpu_s[j].eft = tasks[index_i].cpu_s[j].est + tasks[index_i].cpu_s[j].computation_cost\n",
        "            current_processor = min(range(len(tasks[index_i].cpu_s)), key=lambda i: tasks[index_i].cpu_s[i].eft)\n",
        "            tasks[index_i].ft = tasks[index_i].cpu_s[current_processor].eft\n",
        "            tasks[index_i].st = tasks[index_i].cpu_s[current_processor].est\n",
        "            free_processor[current_processor] = tasks[index_i].ft\n",
        "            tasks[index_i].processor_exec = current_processor\n",
        "            \n",
        "            ''' #  updating the state of processor to reflect that processor was in use for the entire duration of job execution '''\n",
        "    \n",
        "            for j in range(tasks[index_i].st,tasks[index_i].ft): \n",
        "                processor_state[current_processor][j] = True\n",
        "        schedule_queue.pop(0)\n",
        "        \n",
        "        #showpq(schedule_queue);\n",
        "        for bv in range(num_tasks):\n",
        "            if(dag_edge_cost[index_i][bv]>0):\n",
        "                flag=0\n",
        "                for k in range(len(tasks[bv].parents)):\n",
        "                    if(tasks[tasks[bv].parents[k]].is_ready!=True):\n",
        "                        flag=1\n",
        "                        break\n",
        "                if(flag==0):\n",
        "                    schedule_queue.append(tasks[bv])\n",
        "        \n",
        "        schedule_queue=sorted(schedule_queue,key=lambda x: x.rank,reverse=True)\n",
        "        #print(\"After sorting:\\n\")\n",
        "        #showpq(schedule_queue);\n",
        "        #print(len(schedule_queue))\n",
        "        roundk=roundk+1\n",
        "    return order\n",
        "\n",
        "\n",
        "\n",
        "\n"
      ],
      "metadata": {
        "id": "iPXsgdmvmlEV"
      },
      "execution_count": null,
      "outputs": []
    },
    {
      "cell_type": "code",
      "source": [
        "# heft_tasks = []\n",
        "\n",
        "import copy\n",
        "# copy_list = copy.deepcopy()"
      ],
      "metadata": {
        "id": "EUmLUH4KpVa3"
      },
      "execution_count": null,
      "outputs": []
    },
    {
      "cell_type": "code",
      "source": [
        "def main():\n",
        "    initialize_data()\n",
        "    print(\"No. of tasks:\",num_tasks)\n",
        "    print(\"No. of processors:\",num_cpu_s)\n",
        "    print('\\n')\n",
        "    print(\"The upward rank values:\")\n",
        "    avg_computation_calculate()\n",
        "    for i in range(num_tasks):\n",
        "        tasks[i].rank = upward_rank_calculate(i)\n",
        "        print(\"Task \",i + 1,\": \", round(tasks[i].rank,6))\n",
        "\n",
        "    rank_index_sorted = sortRank(tasks)\n",
        "    print('\\n')\n",
        "    schedule(rank_index_sorted)\n",
        "    print(\"EST and EFT on different processors\")\n",
        "    for i in range(num_tasks): \n",
        "        print(\"Task: \",i + 1)\n",
        "        for j in range(num_cpu_s): \n",
        "            print(\"processor \" ,j + 1 , \"||est: \" , tasks[i].cpu_s[j].est , \" eft: \" , tasks[i].cpu_s[j].eft , \" ||\")\n",
        "    print(\"\\nThe order of tasks to be scheduled using HEFT Algorithm:\");\n",
        "    for i in range(num_tasks):\n",
        "        print(rank_index_sorted[i] + 1,end=\" \")\n",
        "    print(\"\\nFinal Schedule:\")\n",
        "    for i in range(num_tasks):\n",
        "        print(\"Task \", i + 1,\" is executed on processor \",tasks[i].processor_exec + 1, \" from time \",tasks[i].st,\" to \",tasks[i].ft);\n",
        "    schedule_length = 0 # schedule length has to be calculated since a job with higher upper rank can finish after the lowest rank job\n",
        "    schedule_length = tasks[max(range(len(tasks)), key=lambda i: tasks[i].ft)].ft\n",
        "    # heft_tasks = copy.deepcopy(tasks)\n",
        "\n",
        "\n",
        "    print(\"\\nHence, using HEFT Algorithm the makespan length from the schedule: \",schedule_length)\n",
        "    c_dict = {0:'#E64646', 1:'#E69646', 2:'#34D05C', 3:'#34D0C3', 4:'#3475D0'}\n",
        "    color_dict = {}\n",
        "\n",
        "    for i in range(num_cpu_s):\n",
        "        color_dict[i] = c_dict[i]\n",
        "    for i in range(len(tasks)):\n",
        "        heft_tasks.append({\"Task\" : str(\"Task\") + str(tasks[i].id+1), \"Start\": tasks[i].st , \"Finish\": tasks[i].ft, \"Resource\": tasks[i].processor_exec ,\"Duration\": tasks[i].ft-tasks[i].st , \"color\": color_dict[tasks[i].processor_exec]  })\n",
        "\n",
        "    print(\"##########################################################################################################################################################################\")\n",
        "    print(\"\\nThe summation of upward rank and downward values:\")\n",
        "    for i in range(num_tasks):\n",
        "        tasks[i].rank = round(downward_rank_calculate(i)+ upward_rank_calculate(i));\n",
        "        print(\"Task \",i + 1,\": \", round(tasks[i].rank,6))\n",
        "    path_cric=create_critical_path(tasks)\n",
        "    print(\"Critical path task: \",end=\"\")\n",
        "    for i in path_cric:\n",
        "        print(i.id+1,end=\" \")\n",
        "    #print('\\n')\n",
        "    k=crictical_processor(path_cric);\n",
        "    print('\\nCritical processor: ',k+1,end=\" \")\n",
        "    #print(\"\\n\")\n",
        "    order=schedule_cpop(path_cric,k)\n",
        "    print(\"\\nThe order of tasks to be scheduled using CPOP algorithm:\")\n",
        "    #print(len(order))\n",
        "    for i in range(num_tasks):\n",
        "        print(order[i],end=\" \")\n",
        "    #print(\"\\nFinal Schedule:\")\n",
        "    print(\"\\nFinal Schedule:\")\n",
        "    for i in range(num_tasks):\n",
        "        print(\"Task \", i + 1,\" is executed on processor \",tasks[i].processor_exec + 1, \" from time \",tasks[i].st,\" to \",tasks[i].ft);\n",
        "    schedule_length = 0 #  schedule length has to be calculated since a job with higher upper rank can finish after the lowest rank job\n",
        "    schedule_length = tasks[max(range(len(tasks)), key=lambda i: tasks[i].ft)].ft\n",
        "    print(\"\\nHence, using CPOP Algorithm the makespan length from the schedule: \",schedule_length)\n",
        "\n",
        "    for i in range(len(tasks)):\n",
        "        cpop_tasks.append({\"Task\" : str(\"Task\") + str(tasks[i].id+1), \"Start\": tasks[i].st , \"Finish\": tasks[i].ft, \"Resource\": tasks[i].processor_exec ,\"Duration\": tasks[i].ft-tasks[i].st , \"color\": color_dict[tasks[i].processor_exec]  })\n",
        "\n",
        "if __name__ == '__main__':\n",
        "    main()\n"
      ],
      "metadata": {
        "id": "bJ-VRTSFmgpz",
        "colab": {
          "base_uri": "https://localhost:8080/"
        },
        "outputId": "9dfda5d1-7aa1-451c-a40f-0a7bda06b2b8"
      },
      "execution_count": null,
      "outputs": [
        {
          "output_type": "stream",
          "name": "stdout",
          "text": [
            "No. of tasks: 10\n",
            "No. of processors: 3\n",
            "\n",
            "\n",
            "The upward rank values:\n",
            "Task  1 :  108.0\n",
            "Task  2 :  77.0\n",
            "Task  3 :  80.0\n",
            "Task  4 :  80.0\n",
            "Task  5 :  69.0\n",
            "Task  6 :  63.333333\n",
            "Task  7 :  42.666667\n",
            "Task  8 :  35.666667\n",
            "Task  9 :  44.333333\n",
            "Task  10 :  14.666667\n",
            "\n",
            "\n",
            "EST and EFT on different processors\n",
            "Task:  1\n",
            "processor  1 ||est:  0  eft:  14  ||\n",
            "processor  2 ||est:  0  eft:  16  ||\n",
            "processor  3 ||est:  0  eft:  9  ||\n",
            "Task:  2\n",
            "processor  1 ||est:  27  eft:  40  ||\n",
            "processor  2 ||est:  27  eft:  46  ||\n",
            "processor  3 ||est:  28  eft:  46  ||\n",
            "Task:  3\n",
            "processor  1 ||est:  21  eft:  32  ||\n",
            "processor  2 ||est:  21  eft:  34  ||\n",
            "processor  3 ||est:  9  eft:  28  ||\n",
            "Task:  4\n",
            "processor  1 ||est:  18  eft:  31  ||\n",
            "processor  2 ||est:  18  eft:  26  ||\n",
            "processor  3 ||est:  28  eft:  45  ||\n",
            "Task:  5\n",
            "processor  1 ||est:  40  eft:  52  ||\n",
            "processor  2 ||est:  26  eft:  39  ||\n",
            "processor  3 ||est:  28  eft:  38  ||\n",
            "Task:  6\n",
            "processor  1 ||est:  40  eft:  53  ||\n",
            "processor  2 ||est:  26  eft:  42  ||\n",
            "processor  3 ||est:  38  eft:  47  ||\n",
            "Task:  7\n",
            "processor  1 ||est:  51  eft:  58  ||\n",
            "processor  2 ||est:  68  eft:  83  ||\n",
            "processor  3 ||est:  38  eft:  49  ||\n",
            "Task:  8\n",
            "processor  1 ||est:  57  eft:  62  ||\n",
            "processor  2 ||est:  68  eft:  79  ||\n",
            "processor  3 ||est:  59  eft:  73  ||\n",
            "Task:  9\n",
            "processor  1 ||est:  51  eft:  69  ||\n",
            "processor  2 ||est:  56  eft:  68  ||\n",
            "processor  3 ||est:  56  eft:  76  ||\n",
            "Task:  10\n",
            "processor  1 ||est:  81  eft:  102  ||\n",
            "processor  2 ||est:  73  eft:  80  ||\n",
            "processor  3 ||est:  81  eft:  97  ||\n",
            "\n",
            "The order of tasks to be scheduled using HEFT Algorithm:\n",
            "1 3 4 2 5 6 9 7 8 10 \n",
            "Final Schedule:\n",
            "Task  1  is executed on processor  3  from time  0  to  9\n",
            "Task  2  is executed on processor  1  from time  27  to  40\n",
            "Task  3  is executed on processor  3  from time  9  to  28\n",
            "Task  4  is executed on processor  2  from time  18  to  26\n",
            "Task  5  is executed on processor  3  from time  28  to  38\n",
            "Task  6  is executed on processor  2  from time  26  to  42\n",
            "Task  7  is executed on processor  3  from time  38  to  49\n",
            "Task  8  is executed on processor  1  from time  57  to  62\n",
            "Task  9  is executed on processor  2  from time  56  to  68\n",
            "Task  10  is executed on processor  2  from time  73  to  80\n",
            "\n",
            "Hence, using HEFT Algorithm the makespan length from the schedule:  80\n",
            "##########################################################################################################################################################################\n",
            "\n",
            "The summation of upward rank and downward values:\n",
            "Task  1 :  108\n",
            "Task  2 :  108\n",
            "Task  3 :  105\n",
            "Task  4 :  102\n",
            "Task  5 :  93\n",
            "Task  6 :  90\n",
            "Task  7 :  105\n",
            "Task  8 :  102\n",
            "Task  9 :  108\n",
            "Task  10 :  108\n",
            "Critical path task: 1 2 9 10 \n",
            "Critical processor:  2 \n",
            "The order of tasks to be scheduled using CPOP algorithm:\n",
            "1 2 3 7 4 5 9 6 8 10 \n",
            "Final Schedule:\n",
            "Task  1  is executed on processor  2  from time  0  to  16\n",
            "Task  2  is executed on processor  2  from time  16  to  35\n",
            "Task  3  is executed on processor  1  from time  28  to  39\n",
            "Task  4  is executed on processor  3  from time  25  to  42\n",
            "Task  5  is executed on processor  2  from time  35  to  48\n",
            "Task  6  is executed on processor  3  from time  42  to  51\n",
            "Task  7  is executed on processor  1  from time  39  to  46\n",
            "Task  8  is executed on processor  3  from time  54  to  68\n",
            "Task  9  is executed on processor  2  from time  65  to  77\n",
            "Task  10  is executed on processor  2  from time  79  to  86\n",
            "\n",
            "Hence, using CPOP Algorithm the makespan length from the schedule:  86\n"
          ]
        }
      ]
    },
    {
      "cell_type": "code",
      "source": [
        ""
      ],
      "metadata": {
        "id": "99TSrzPsuuuv"
      },
      "execution_count": null,
      "outputs": []
    },
    {
      "cell_type": "code",
      "source": [
        "import plotly.express as px\n",
        "import pandas as pd\n",
        "import matplotlib.pyplot as plt\n",
        "df = pd.DataFrame(heft_tasks)\n",
        "\n",
        "df\n",
        "\n",
        "\n",
        "\n"
      ],
      "metadata": {
        "id": "V-yDHkQFo3LB",
        "colab": {
          "base_uri": "https://localhost:8080/",
          "height": 363
        },
        "outputId": "27a2bf15-936e-44ec-9f62-9483c29b7e91"
      },
      "execution_count": null,
      "outputs": [
        {
          "output_type": "execute_result",
          "data": {
            "text/plain": [
              "     Task  Start  Finish  Resource  Duration    color\n",
              "0   Task1      0       9         2         9  #34D05C\n",
              "1   Task2     27      40         0        13  #E64646\n",
              "2   Task3      9      28         2        19  #34D05C\n",
              "3   Task4     18      26         1         8  #E69646\n",
              "4   Task5     28      38         2        10  #34D05C\n",
              "5   Task6     26      42         1        16  #E69646\n",
              "6   Task7     38      49         2        11  #34D05C\n",
              "7   Task8     57      62         0         5  #E64646\n",
              "8   Task9     56      68         1        12  #E69646\n",
              "9  Task10     73      80         1         7  #E69646"
            ],
            "text/html": [
              "\n",
              "  <div id=\"df-5a5d8919-1be8-495b-a126-0878d6933f7c\">\n",
              "    <div class=\"colab-df-container\">\n",
              "      <div>\n",
              "<style scoped>\n",
              "    .dataframe tbody tr th:only-of-type {\n",
              "        vertical-align: middle;\n",
              "    }\n",
              "\n",
              "    .dataframe tbody tr th {\n",
              "        vertical-align: top;\n",
              "    }\n",
              "\n",
              "    .dataframe thead th {\n",
              "        text-align: right;\n",
              "    }\n",
              "</style>\n",
              "<table border=\"1\" class=\"dataframe\">\n",
              "  <thead>\n",
              "    <tr style=\"text-align: right;\">\n",
              "      <th></th>\n",
              "      <th>Task</th>\n",
              "      <th>Start</th>\n",
              "      <th>Finish</th>\n",
              "      <th>Resource</th>\n",
              "      <th>Duration</th>\n",
              "      <th>color</th>\n",
              "    </tr>\n",
              "  </thead>\n",
              "  <tbody>\n",
              "    <tr>\n",
              "      <th>0</th>\n",
              "      <td>Task1</td>\n",
              "      <td>0</td>\n",
              "      <td>9</td>\n",
              "      <td>2</td>\n",
              "      <td>9</td>\n",
              "      <td>#34D05C</td>\n",
              "    </tr>\n",
              "    <tr>\n",
              "      <th>1</th>\n",
              "      <td>Task2</td>\n",
              "      <td>27</td>\n",
              "      <td>40</td>\n",
              "      <td>0</td>\n",
              "      <td>13</td>\n",
              "      <td>#E64646</td>\n",
              "    </tr>\n",
              "    <tr>\n",
              "      <th>2</th>\n",
              "      <td>Task3</td>\n",
              "      <td>9</td>\n",
              "      <td>28</td>\n",
              "      <td>2</td>\n",
              "      <td>19</td>\n",
              "      <td>#34D05C</td>\n",
              "    </tr>\n",
              "    <tr>\n",
              "      <th>3</th>\n",
              "      <td>Task4</td>\n",
              "      <td>18</td>\n",
              "      <td>26</td>\n",
              "      <td>1</td>\n",
              "      <td>8</td>\n",
              "      <td>#E69646</td>\n",
              "    </tr>\n",
              "    <tr>\n",
              "      <th>4</th>\n",
              "      <td>Task5</td>\n",
              "      <td>28</td>\n",
              "      <td>38</td>\n",
              "      <td>2</td>\n",
              "      <td>10</td>\n",
              "      <td>#34D05C</td>\n",
              "    </tr>\n",
              "    <tr>\n",
              "      <th>5</th>\n",
              "      <td>Task6</td>\n",
              "      <td>26</td>\n",
              "      <td>42</td>\n",
              "      <td>1</td>\n",
              "      <td>16</td>\n",
              "      <td>#E69646</td>\n",
              "    </tr>\n",
              "    <tr>\n",
              "      <th>6</th>\n",
              "      <td>Task7</td>\n",
              "      <td>38</td>\n",
              "      <td>49</td>\n",
              "      <td>2</td>\n",
              "      <td>11</td>\n",
              "      <td>#34D05C</td>\n",
              "    </tr>\n",
              "    <tr>\n",
              "      <th>7</th>\n",
              "      <td>Task8</td>\n",
              "      <td>57</td>\n",
              "      <td>62</td>\n",
              "      <td>0</td>\n",
              "      <td>5</td>\n",
              "      <td>#E64646</td>\n",
              "    </tr>\n",
              "    <tr>\n",
              "      <th>8</th>\n",
              "      <td>Task9</td>\n",
              "      <td>56</td>\n",
              "      <td>68</td>\n",
              "      <td>1</td>\n",
              "      <td>12</td>\n",
              "      <td>#E69646</td>\n",
              "    </tr>\n",
              "    <tr>\n",
              "      <th>9</th>\n",
              "      <td>Task10</td>\n",
              "      <td>73</td>\n",
              "      <td>80</td>\n",
              "      <td>1</td>\n",
              "      <td>7</td>\n",
              "      <td>#E69646</td>\n",
              "    </tr>\n",
              "  </tbody>\n",
              "</table>\n",
              "</div>\n",
              "      <button class=\"colab-df-convert\" onclick=\"convertToInteractive('df-5a5d8919-1be8-495b-a126-0878d6933f7c')\"\n",
              "              title=\"Convert this dataframe to an interactive table.\"\n",
              "              style=\"display:none;\">\n",
              "        \n",
              "  <svg xmlns=\"http://www.w3.org/2000/svg\" height=\"24px\"viewBox=\"0 0 24 24\"\n",
              "       width=\"24px\">\n",
              "    <path d=\"M0 0h24v24H0V0z\" fill=\"none\"/>\n",
              "    <path d=\"M18.56 5.44l.94 2.06.94-2.06 2.06-.94-2.06-.94-.94-2.06-.94 2.06-2.06.94zm-11 1L8.5 8.5l.94-2.06 2.06-.94-2.06-.94L8.5 2.5l-.94 2.06-2.06.94zm10 10l.94 2.06.94-2.06 2.06-.94-2.06-.94-.94-2.06-.94 2.06-2.06.94z\"/><path d=\"M17.41 7.96l-1.37-1.37c-.4-.4-.92-.59-1.43-.59-.52 0-1.04.2-1.43.59L10.3 9.45l-7.72 7.72c-.78.78-.78 2.05 0 2.83L4 21.41c.39.39.9.59 1.41.59.51 0 1.02-.2 1.41-.59l7.78-7.78 2.81-2.81c.8-.78.8-2.07 0-2.86zM5.41 20L4 18.59l7.72-7.72 1.47 1.35L5.41 20z\"/>\n",
              "  </svg>\n",
              "      </button>\n",
              "      \n",
              "  <style>\n",
              "    .colab-df-container {\n",
              "      display:flex;\n",
              "      flex-wrap:wrap;\n",
              "      gap: 12px;\n",
              "    }\n",
              "\n",
              "    .colab-df-convert {\n",
              "      background-color: #E8F0FE;\n",
              "      border: none;\n",
              "      border-radius: 50%;\n",
              "      cursor: pointer;\n",
              "      display: none;\n",
              "      fill: #1967D2;\n",
              "      height: 32px;\n",
              "      padding: 0 0 0 0;\n",
              "      width: 32px;\n",
              "    }\n",
              "\n",
              "    .colab-df-convert:hover {\n",
              "      background-color: #E2EBFA;\n",
              "      box-shadow: 0px 1px 2px rgba(60, 64, 67, 0.3), 0px 1px 3px 1px rgba(60, 64, 67, 0.15);\n",
              "      fill: #174EA6;\n",
              "    }\n",
              "\n",
              "    [theme=dark] .colab-df-convert {\n",
              "      background-color: #3B4455;\n",
              "      fill: #D2E3FC;\n",
              "    }\n",
              "\n",
              "    [theme=dark] .colab-df-convert:hover {\n",
              "      background-color: #434B5C;\n",
              "      box-shadow: 0px 1px 3px 1px rgba(0, 0, 0, 0.15);\n",
              "      filter: drop-shadow(0px 1px 2px rgba(0, 0, 0, 0.3));\n",
              "      fill: #FFFFFF;\n",
              "    }\n",
              "  </style>\n",
              "\n",
              "      <script>\n",
              "        const buttonEl =\n",
              "          document.querySelector('#df-5a5d8919-1be8-495b-a126-0878d6933f7c button.colab-df-convert');\n",
              "        buttonEl.style.display =\n",
              "          google.colab.kernel.accessAllowed ? 'block' : 'none';\n",
              "\n",
              "        async function convertToInteractive(key) {\n",
              "          const element = document.querySelector('#df-5a5d8919-1be8-495b-a126-0878d6933f7c');\n",
              "          const dataTable =\n",
              "            await google.colab.kernel.invokeFunction('convertToInteractive',\n",
              "                                                     [key], {});\n",
              "          if (!dataTable) return;\n",
              "\n",
              "          const docLinkHtml = 'Like what you see? Visit the ' +\n",
              "            '<a target=\"_blank\" href=https://colab.research.google.com/notebooks/data_table.ipynb>data table notebook</a>'\n",
              "            + ' to learn more about interactive tables.';\n",
              "          element.innerHTML = '';\n",
              "          dataTable['output_type'] = 'display_data';\n",
              "          await google.colab.output.renderOutput(dataTable, element);\n",
              "          const docLink = document.createElement('div');\n",
              "          docLink.innerHTML = docLinkHtml;\n",
              "          element.appendChild(docLink);\n",
              "        }\n",
              "      </script>\n",
              "    </div>\n",
              "  </div>\n",
              "  "
            ]
          },
          "metadata": {},
          "execution_count": 741
        }
      ]
    },
    {
      "cell_type": "code",
      "source": [
        "print(heft_tasks)"
      ],
      "metadata": {
        "id": "M98OyLAwmMoN",
        "colab": {
          "base_uri": "https://localhost:8080/"
        },
        "outputId": "96c42547-869d-4aa8-f820-33c98604e1fc"
      },
      "execution_count": null,
      "outputs": [
        {
          "output_type": "stream",
          "name": "stdout",
          "text": [
            "[{'Task': 'Task1', 'Start': 0, 'Finish': 9, 'Resource': 2, 'Duration': 9, 'color': '#34D05C'}, {'Task': 'Task2', 'Start': 27, 'Finish': 40, 'Resource': 0, 'Duration': 13, 'color': '#E64646'}, {'Task': 'Task3', 'Start': 9, 'Finish': 28, 'Resource': 2, 'Duration': 19, 'color': '#34D05C'}, {'Task': 'Task4', 'Start': 18, 'Finish': 26, 'Resource': 1, 'Duration': 8, 'color': '#E69646'}, {'Task': 'Task5', 'Start': 28, 'Finish': 38, 'Resource': 2, 'Duration': 10, 'color': '#34D05C'}, {'Task': 'Task6', 'Start': 26, 'Finish': 42, 'Resource': 1, 'Duration': 16, 'color': '#E69646'}, {'Task': 'Task7', 'Start': 38, 'Finish': 49, 'Resource': 2, 'Duration': 11, 'color': '#34D05C'}, {'Task': 'Task8', 'Start': 57, 'Finish': 62, 'Resource': 0, 'Duration': 5, 'color': '#E64646'}, {'Task': 'Task9', 'Start': 56, 'Finish': 68, 'Resource': 1, 'Duration': 12, 'color': '#E69646'}, {'Task': 'Task10', 'Start': 73, 'Finish': 80, 'Resource': 1, 'Duration': 7, 'color': '#E69646'}]\n"
          ]
        }
      ]
    },
    {
      "cell_type": "code",
      "source": [
        "print(cpop_tasks)"
      ],
      "metadata": {
        "id": "VXW7SCgm2lyD",
        "colab": {
          "base_uri": "https://localhost:8080/"
        },
        "outputId": "0cd73328-7c9b-46ba-a85c-a7bcda483d73"
      },
      "execution_count": null,
      "outputs": [
        {
          "output_type": "stream",
          "name": "stdout",
          "text": [
            "[{'Task': 'Task1', 'Start': 0, 'Finish': 16, 'Resource': 1, 'Duration': 16, 'color': '#E69646'}, {'Task': 'Task2', 'Start': 16, 'Finish': 35, 'Resource': 1, 'Duration': 19, 'color': '#E69646'}, {'Task': 'Task3', 'Start': 28, 'Finish': 39, 'Resource': 0, 'Duration': 11, 'color': '#E64646'}, {'Task': 'Task4', 'Start': 25, 'Finish': 42, 'Resource': 2, 'Duration': 17, 'color': '#34D05C'}, {'Task': 'Task5', 'Start': 35, 'Finish': 48, 'Resource': 1, 'Duration': 13, 'color': '#E69646'}, {'Task': 'Task6', 'Start': 42, 'Finish': 51, 'Resource': 2, 'Duration': 9, 'color': '#34D05C'}, {'Task': 'Task7', 'Start': 39, 'Finish': 46, 'Resource': 0, 'Duration': 7, 'color': '#E64646'}, {'Task': 'Task8', 'Start': 54, 'Finish': 68, 'Resource': 2, 'Duration': 14, 'color': '#34D05C'}, {'Task': 'Task9', 'Start': 65, 'Finish': 77, 'Resource': 1, 'Duration': 12, 'color': '#E69646'}, {'Task': 'Task10', 'Start': 79, 'Finish': 86, 'Resource': 1, 'Duration': 7, 'color': '#E69646'}]\n"
          ]
        }
      ]
    },
    {
      "cell_type": "code",
      "source": [
        "df1 = pd.DataFrame(cpop_tasks)"
      ],
      "metadata": {
        "id": "iZTK1aW72uBg"
      },
      "execution_count": null,
      "outputs": []
    },
    {
      "cell_type": "code",
      "source": [
        "from matplotlib.patches import Patch\n",
        "fig, ax = plt.subplots(1, figsize=(16,6))\n",
        "plt.barh(y=df.Task, left=df.Start, width=df.Duration,color = df.color, label=df.Resource)\n",
        "ax.set_xlabel('Schedule length / start_time+duration ')\n",
        "ax.set_title('Task Scheduling')\n",
        "c_dict = {'processor_1':'#E64646', 'processor_2':'#E69646', 'processor_3':'#34D05C'}\n",
        "legend_elements = [Patch(facecolor=c_dict[i], label=i)  for i in c_dict]\n",
        "# legend_elements = [Patch(facecolor=df.color[i], label=i)  for i in list(df.color)]\n",
        "plt.legend(handles= legend_elements)\n",
        "# plt.legend(handles= df.color)\n",
        "ax.grid(True)\n",
        "# ax.annonate\n",
        "plt.show()"
      ],
      "metadata": {
        "id": "-XppvxHAxkVq",
        "colab": {
          "base_uri": "https://localhost:8080/",
          "height": 405
        },
        "outputId": "2d428d96-c18f-4d20-deed-b95f3544464e"
      },
      "execution_count": null,
      "outputs": [
        {
          "output_type": "display_data",
          "data": {
            "text/plain": [
              "<Figure size 1152x432 with 1 Axes>"
            ],
            "image/png": "[encoded data removed]"
          },
          "metadata": {
            "needs_background": "light"
          }
        }
      ]
    },
    {
      "cell_type": "code",
      "source": [
        "from matplotlib.patches import Patch\n",
        "fig, ax = plt.subplots(1, figsize=(16,6))\n",
        "plt.barh(y=df1.Task, left=df1.Start, width=df1.Duration,color = df1.color, label=df1.Resource)\n",
        "# legend_elements = [Patch(facecolor=df.color[i], label=i)  for i in list(df.color)]\n",
        "# plt.legend(handles=list(df.color))\n",
        "# plt.legend(handles=df.Resource)\n",
        "c_dict = {'processor_1':'#E64646', 'processor_2':'#E69646', 'processor_3':'#34D05C'}\n",
        "legend_elements = [Patch(facecolor=c_dict[i], label=i)  for i in c_dict]\n",
        "# legend_elements = [Patch(facecolor=df.color[i], label=i)  for i in list(df.color)]\n",
        "plt.legend(handles= legend_elements)\n",
        "ax.set_xlabel('Schedule length / start_time+duration ')\n",
        "ax.set_title('Task Scheduling')\n",
        "ax.grid(True)\n",
        "# ax.annonate\n",
        "plt.show()"
      ],
      "metadata": {
        "id": "GpYeW_pXxOAC",
        "colab": {
          "base_uri": "https://localhost:8080/",
          "height": 405
        },
        "outputId": "5470d874-12b1-4ac1-ffe6-7af1f92a4c2e"
      },
      "execution_count": null,
      "outputs": [
        {
          "output_type": "display_data",
          "data": {
            "text/plain": [
              "<Figure size 1152x432 with 1 Axes>"
            ],
            "image/png": "[encoded data removed]"
          },
          "metadata": {
            "needs_background": "light"
          }
        }
      ]
    },
    {
      "cell_type": "code",
      "source": [
        "import numpy as np \n",
        "import matplotlib.pyplot as plt \n",
        "\n",
        "processor_count = 3\n",
        "\n",
        "tasks_count = [10,22,32,42,52,62,72,92,102,112,122]\n",
        "heft_schedule_length = [80,244,269,348,340,380,390,592,570,588,701]\n",
        "cpop_schedule_length = [86,260,269,445,381,439,429,625,618,602,752]\n",
        "X = ['Group A','Group B','Group C','Group D']\n",
        "Ygirls = [10,20,20,40]\n",
        "Zboys = [20,30,25,30]\n",
        "  \n",
        "X_axis = np.arange(len(tasks_count))\n",
        "\n",
        "  \n",
        "plt.bar(X_axis - 0.2, heft_schedule_length, 0.4, label = 'HEFT')\n",
        "plt.bar(X_axis + 0.2, cpop_schedule_length, 0.4, label = 'CPOP')\n",
        "  \n",
        "plt.xticks(X_axis, tasks_count)\n",
        "plt.xlabel(\"Tasks Count\")  # add X-axis label\n",
        "plt.ylabel(\"heft/cpop schedule length\")  # add Y-axis label\n",
        "plt.title(\"diffrenet tasks count vs fixed processor count = 3\")  # add title\n",
        "plt.legend()\n",
        "plt.show()"
      ],
      "metadata": {
        "colab": {
          "base_uri": "https://localhost:8080/",
          "height": 295
        },
        "id": "2E2FzsEPh07b",
        "outputId": "6541df05-7ecf-470f-9758-d0b55e39e0f7"
      },
      "execution_count": null,
      "outputs": [
        {
          "output_type": "display_data",
          "data": {
            "text/plain": [
              "<Figure size 432x288 with 1 Axes>"
            ],
            "image/png": "[encoded data removed]"
          },
          "metadata": {
            "needs_background": "light"
          }
        }
      ]
    },
    {
      "cell_type": "code",
      "source": [
        "import numpy as np \n",
        "import matplotlib.pyplot as plt \n",
        "\n",
        "task_count = 122\n",
        "\n",
        "processor_count = [3, 4, 5, 6, 7, 8]\n",
        "heft_schedule_length = [404,395,390,365,279,218]\n",
        "cpop_schedule_length = [417,420,435,402,367,249]\n",
        "\n",
        "\n",
        "  \n",
        "X_axis = np.arange(len(processor_count))\n",
        "\n",
        "  \n",
        "plt.bar(X_axis - 0.2, heft_schedule_length, 0.4, label = 'HEFT')\n",
        "plt.bar(X_axis + 0.2, cpop_schedule_length, 0.4, label = 'CPOP')\n",
        "  \n",
        "plt.xticks(X_axis, processor_count)\n",
        "plt.xlabel(\"Tasks Count\")  # add X-axis label\n",
        "plt.ylabel(\"heft/cpop schedule length\")  # add Y-axis label\n",
        "plt.title(\"diffrenet processor count vs fixed tasks count = 122\")  # add title\n",
        "plt.show()\n"
      ],
      "metadata": {
        "colab": {
          "base_uri": "https://localhost:8080/",
          "height": 295
        },
        "id": "9CHPAFATit5B",
        "outputId": "125b7f92-8e70-4470-fc59-ad66fafcfcae"
      },
      "execution_count": null,
      "outputs": [
        {
          "output_type": "display_data",
          "data": {
            "text/plain": [
              "<Figure size 432x288 with 1 Axes>"
            ],
            "image/png": "[encoded data removed]"
          },
          "metadata": {
            "needs_background": "light"
          }
        }
      ]
    },
    {
      "cell_type": "code",
      "source": [
        ""
      ],
      "metadata": {
        "id": "59Ef8ctZxB2K"
      },
      "execution_count": null,
      "outputs": []
    }
  ]
}